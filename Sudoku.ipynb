{
 "cells": [
  {
   "cell_type": "markdown",
   "id": "5669811d",
   "metadata": {},
   "source": [
    "This is a Sudoku game.\n",
    "\n",
    "The rules are:\n",
    "1) Fill the gaps with numbers between 1 and 4\n",
    "2) Don't repeat numbers in the same line, column and quadrant\n",
    "3) Don't have a limit of mistakes, so good luck!"
   ]
  },
  {
   "cell_type": "code",
   "execution_count": null,
   "id": "6b8a7a12",
   "metadata": {},
   "outputs": [
    {
     "name": "stdout",
     "output_type": "stream",
     "text": [
      "|4 |  !  |  |        |a |b !c |d |\n",
      "|  |  !4 |  |        |e |f !g |h |\n",
      "------+------        ------+------\n",
      "|1 |  !  |  |        |i |j !k |l |\n",
      "|  |2 !  |4 |        |m |n !o |p |\n"
     ]
    }
   ],
   "source": [
    "#\"Sudoku_origem\" is the final result and \"Sudoku_preencher\" is the game with the gaps to the user fill. Both dicts has the \n",
    "#same keys.\n",
    "Sudoku_origem = {'a':4,'b':1,'c':3,'d':2,'e':2,'f':3,'g':4,'h':1,'i':1,'j':4,'k':2,'l':3,'m':3,'n':2,'o':1,'p':4}\n",
    "Sudoku_preencher = {'a':Sudoku_origem['a'],'b':' ','c':' ','d':' ','e':' ','f':' ','g':Sudoku_origem['g'],'h':' ',\n",
    "                    'i':Sudoku_origem['i'],'j':' ','k':' ','l':' ','m':' ','n':Sudoku_origem['n'],'o':' ',\n",
    "                    'p':Sudoku_origem['p']}\n",
    "\n",
    "#Variables \"count_error\" and \"n_jogadas\" are used to break the loop when the game is done, and to alert the user how \n",
    "#many gaps are to fill and how many errors to correct.\n",
    "count_error = 0\n",
    "n_jogadas = 11\n",
    "\n",
    "#Print the inicial game with position references with letters of \"a\" to \"p\"\n",
    "print(f'|4 |  !  |  |        |a |b !c |d |\\n|  |  !4 |  |        |e |f !g |h |\\n------+------        ------+------\\n|1 |  !  |  |        |i |j !k |l |\\n|  |2 !  |4 |        |m |n !o |p |')\n",
    "\n",
    "\n",
    "\n",
    "#Start the while loop with two input boxes for position (\"posição\") and value (\"valor\")\n",
    "while n_jogadas > 0:\n",
    "    posição = input('Qual a posição?')\n",
    "    valor = input('Qual o valor?:')  \n",
    "    \n",
    "#Check if the \"valor\" is a number and \"posição\" is a string\n",
    "    if valor.isnumeric() and posição.isalpha():\n",
    "        posição = posição.lower()\n",
    "        valor = int(valor)\n",
    "\n",
    "#Overwrite empty spaces in \"Sudoku_preencher\" and mistakes inputed before\n",
    "        for k, v in Sudoku_preencher.items():\n",
    "            if k == posição:\n",
    "                if Sudoku_preencher[k] == ' ' or Sudoku_preencher[k] != Sudoku_origem[k]:\n",
    "                    Sudoku_preencher[k] = valor\n",
    "                    if Sudoku_preencher[k] != Sudoku_origem[k]:\n",
    "                        Sudoku_preencher[k] = valor\n",
    "#Count the errors and the number of gaps to print to the user after every input\n",
    "                        count_error = count_error + 1\n",
    "                    else:\n",
    "                        n_jogadas = n_jogadas - 1\n",
    "                    print(f'Número de jogadas possíveis: {n_jogadas}; Número de erros: {count_error}')\n",
    "                    \n",
    "#Block cells already filled and alert the user\n",
    "                else:\n",
    "                    print('Este valor já está preenchido')\n",
    "            \n",
    "#Break the loop when the game is done\n",
    "        if n_jogadas == 0:\n",
    "            print('Parabéns! Você finalizou o Sudoku.')\n",
    "            break    \n",
    "            \n",
    "#Print the current status of the game\n",
    "        print(f'|4 |{Sudoku_preencher[\"b\"]} !{Sudoku_preencher[\"c\"]} |{Sudoku_preencher[\"d\"]} |        |a |b !c |d |\\n|{Sudoku_preencher[\"e\"]} |{Sudoku_preencher[\"f\"]} !4 |{Sudoku_preencher[\"h\"]} |        |e |f !g |h |\\n------+------        ------+------\\n|1 |{Sudoku_preencher[\"j\"]} !{Sudoku_preencher[\"k\"]} |{Sudoku_preencher[\"l\"]} |        |i |j !k |l |\\n|{Sudoku_preencher[\"m\"]} |2 !{Sudoku_preencher[\"o\"]} |4 |        |m |n !o |p |')\n",
    "\n",
    "#Don't fill the cell if the user inputs a wrong format of data, and alert the user\n",
    "    else:\n",
    "        print('Posição ou valor inválido')"
   ]
  }
 ],
 "metadata": {
  "kernelspec": {
   "display_name": "Python 3 (ipykernel)",
   "language": "python",
   "name": "python3"
  },
  "language_info": {
   "codemirror_mode": {
    "name": "ipython",
    "version": 3
   },
   "file_extension": ".py",
   "mimetype": "text/x-python",
   "name": "python",
   "nbconvert_exporter": "python",
   "pygments_lexer": "ipython3",
   "version": "3.9.7"
  }
 },
 "nbformat": 4,
 "nbformat_minor": 5
}
